{
 "cells": [
  {
   "cell_type": "code",
   "execution_count": 1,
   "metadata": {},
   "outputs": [],
   "source": [
    "import pandas as pd\n",
    "import matplotlib.pyplot as plt\n",
    "import seaborn as sns"
   ]
  },
  {
   "cell_type": "code",
   "execution_count": 2,
   "metadata": {},
   "outputs": [],
   "source": [
    "df = pd.read_excel(\"C:\\\\Users\\\\harshvats\\Downloads\\\\10-30-2023-12 22 50 ANCInterventionDistrict131023 - De-identified.xlsx\")"
   ]
  },
  {
   "cell_type": "code",
   "execution_count": 3,
   "metadata": {},
   "outputs": [
    {
     "name": "stdout",
     "output_type": "stream",
     "text": [
      "['District Name', 'Health Block Name', 'Health Facility Name', 'Health SubCentre Name', 'Villege Name', 'ANM Name', 'ANM MobileNo', 'ANM ID', 'Asha Name', 'Asha MobileNo', 'Name of PW', 'Husband Name', 'Single Mother', 'MPID', 'PW Mobile', 'LMP Date', 'Registration Date', 'EDD Date', 'Height', 'AGE', 'Blood Group', 'Blood Group Name', 'Gravida', 'Parity', 'Case No', 'SamagraID PW', 'SamagraID Husband', 'Samagra Status', 'Wife Shramik Status ', 'Husband Shramik Status ', 'Bank Name', 'Account No', 'IFSC Code', 'APL/BPL', 'Category', 'ANC1', 'ANC Date', 'ANC Place', 'Type Of Facility', 'ANC Counducted By', 'Name of Person Who Conducted ANC', 'Weight ANC1', 'BP Distolic1 ', 'BP Systolic 1', 'Hb1', 'Urine Albumin', 'Place Tag for Next ANC', 'Type of Facility Tagged ANC', 'ANC2', 'ANC Date1', 'Place of ANC', 'Facility Type', 'ANC Counducted By1', 'Name Of Person Who Conducted ANC1', 'Weight2', 'BP Distolic2', 'BP Systolic2', 'Hb2', 'Urine Albumin1', 'Place Tag For Next ANC1', 'Type of Facility Tagged', 'ANC3', 'ANC Date2', 'Place of ANC1', 'Type of Facility1', 'ANC Counducted By2', 'Name Of Person Who Conducted ANC2', 'Weight3', 'BP Distolic3', 'BP Systolic3', 'Hb3', 'Urine Albumin2', 'Place Tag for Next ANC2', 'Type of Facility Tagged ANC1', 'ANC4', 'ANC Date3', 'ANC Place1', 'Type of Facility2', 'ANC Counducted By3', 'Name Of Person Who Conducted ANC3', 'Weight4', 'BP Distolic4', 'BP Systolic4', 'Hb4', 'Urine Albumin ANC', 'Fundal Height in weeks', 'FHS', 'Foetal Movement', 'Foetal Position', 'Malaria Screening', 'Malaria Result', 'BMI', 'Sickle Cell Anemia Positive', 'Syphilis Result', 'Hepatitis screening Done', 'Hepatitis Result', 'HIV Test', 'Iron Sucrose Dose1 Date', 'Iron Sucrose Dose2 Date', 'Iron Sucrose Dose3 Date', 'Iron Sucrose Dose4 Date', 'Iron Sucrose Dose5 Date', 'Blood Transfusion given', 'Number of Units', 'Last Date of BT', 'Transfusion Date', 'Place Tag For Delivery', 'Delivery Place', 'Type of Facility3', 'TD1', 'TD2', 'TD Boster', 'IFA Tablet', 'Calcium Tablet', 'Albendazol Tablet', 'Folic Acid Tablet', 'Full ANC', 'USG', 'Death IN ANC', 'Abortion Spontaneous', 'Abortion Induced', 'HRPW', 'HR Medical History', 'Previous LSCS', 'Preterm Delivery in Previous Pregnancy', 'Neonatal Death In Previous Pregnancy', 'Still Birth in Previous Pregnancy', 'Congenital Malfunction in Previous Pregnancy', 'HR Current Pregnacy', 'OGTT', 'GDM', 'GDM Mngt', 'PIH', 'PIH Mngt ', 'MUAC']\n"
     ]
    }
   ],
   "source": [
    "print([i for i in df.columns])"
   ]
  },
  {
   "cell_type": "code",
   "execution_count": 16,
   "metadata": {},
   "outputs": [
    {
     "name": "stdout",
     "output_type": "stream",
     "text": [
      "ANC1           Missing    Yes  Total\n",
      "District Name                       \n",
      "5                  634   5864   6498\n",
      "19                1442   7449   8891\n",
      "30                2175   4710   6885\n",
      "40                2233   7931  10164\n",
      "42                3050   4320   7370\n",
      "43                2806   5968   8774\n",
      "Total            12340  36242  48582\n"
     ]
    }
   ],
   "source": [
    "\n",
    "\n",
    "# Replace missing values in 'ANC1' with 'Missing'\n",
    "df['ANC1'].fillna('Missing', inplace=True)\n",
    "# Create a cross-tabulation\n",
    "tabulation = pd.crosstab(df['District Name'], df['ANC1'], margins=True, margins_name='Total')\n",
    "\n",
    "# Display the tabulation\n",
    "print(tabulation)\n"
   ]
  },
  {
   "cell_type": "code",
   "execution_count": 10,
   "metadata": {},
   "outputs": [
    {
     "name": "stdout",
     "output_type": "stream",
     "text": [
      "Type Of Facility  Accredited Private Hospital  Community Health Centre  \\\n",
      "District Name                                                            \n",
      "5                                           1                      379   \n",
      "19                                        177                      163   \n",
      "30                                          0                       88   \n",
      "40                                          1                      103   \n",
      "42                                          0                      271   \n",
      "43                                          0                      335   \n",
      "Total                                     179                     1339   \n",
      "\n",
      "Type Of Facility  Dispensaries  District Hospital  Medical College Hospital  \\\n",
      "District Name                                                                 \n",
      "5                            0                 27                         0   \n",
      "19                           0                 67                        17   \n",
      "30                           0                698                         0   \n",
      "40                           1                407                         0   \n",
      "42                           1                480                         0   \n",
      "43                           0                 36                         0   \n",
      "Total                        2               1715                        17   \n",
      "\n",
      "Type Of Facility  Medical Colleges Hospital  Missing  Other Private Hospital  \\\n",
      "District Name                                                                  \n",
      "5                                         0      642                      13   \n",
      "19                                        1     1453                    1021   \n",
      "30                                        0     2226                       8   \n",
      "40                                        1     2269                      28   \n",
      "42                                        0     3084                      12   \n",
      "43                                        0     2973                       9   \n",
      "Total                                     2    12647                    1091   \n",
      "\n",
      "Type Of Facility  Other Public Facility  Out of State Govt. Hospital  \\\n",
      "District Name                                                          \n",
      "5                                    20                            3   \n",
      "19                                   93                           15   \n",
      "30                                   68                            3   \n",
      "40                                  707                            1   \n",
      "42                                   66                            0   \n",
      "43                                  521                            6   \n",
      "Total                              1475                           28   \n",
      "\n",
      "Type Of Facility  Out of State Private Hospital  Primary Health Center  \\\n",
      "District Name                                                            \n",
      "5                                             4                     13   \n",
      "19                                            5                     14   \n",
      "30                                            0                     44   \n",
      "40                                            2                     83   \n",
      "42                                            0                     80   \n",
      "43                                            1                    216   \n",
      "Total                                        12                    450   \n",
      "\n",
      "Type Of Facility  Primary Health Centre  Sub-District Hospital  SubCentre  \\\n",
      "District Name                                                               \n",
      "5                                   143                      0       1802   \n",
      "19                                  271                    566       3398   \n",
      "30                                  128                    110       1281   \n",
      "40                                  164                    103       2649   \n",
      "42                                  135                    411        845   \n",
      "43                                   99                    120       2667   \n",
      "Total                               940                   1310      12642   \n",
      "\n",
      "Type Of Facility  Urban Health Centre  Urban Health Posts  \\\n",
      "District Name                                               \n",
      "5                                   0                   0   \n",
      "19                                 32                   0   \n",
      "30                                  0                   1   \n",
      "40                                  0                   3   \n",
      "42                                  1                   1   \n",
      "43                                  1                  18   \n",
      "Total                              34                  23   \n",
      "\n",
      "Type Of Facility  Urban Primary Health Centres  Village  Total  \n",
      "District Name                                                   \n",
      "5                                            1     3450   6498  \n",
      "19                                           1     1597   8891  \n",
      "30                                           1     2229   6885  \n",
      "40                                           1     3641  10164  \n",
      "42                                           0     1983   7370  \n",
      "43                                           0     1772   8774  \n",
      "Total                                        4    14672  48582  \n"
     ]
    }
   ],
   "source": [
    "# Replace missing values in 'ANC1' with 'Missing'\n",
    "df['Type Of Facility'].fillna('Missing', inplace=True)\n",
    "# Create a cross-tabulation\n",
    "tabulation = pd.crosstab(df['District Name'], df['Type Of Facility'], margins=True, margins_name='Total')\n",
    "\n",
    "# Display the tabulation\n",
    "print(tabulation)\n"
   ]
  },
  {
   "cell_type": "code",
   "execution_count": 17,
   "metadata": {},
   "outputs": [
    {
     "name": "stdout",
     "output_type": "stream",
     "text": [
      "ANC Counducted By    ANM  CHO  Gynecologist  LMO  Missing  Total\n",
      "District Name                                                   \n",
      "5                   5828   33             1    2      634   6498\n",
      "19                  7379   21             8   41     1442   8891\n",
      "30                  4684   24             2    0     2175   6885\n",
      "40                  7834   83             5    8     2234  10164\n",
      "42                  4242   71             4    3     3050   7370\n",
      "43                  5811  144            11    2     2806   8774\n",
      "Total              35778  376            31   56    12341  48582\n"
     ]
    }
   ],
   "source": [
    "# Replace missing values in 'ANC1' with 'Missing'\n",
    "df['ANC Counducted By'].fillna('Missing', inplace=True)\n",
    "# Create a cross-tabulation\n",
    "tabulation = pd.crosstab(df['District Name'], df['ANC Counducted By'], margins=True, margins_name='Total')\n",
    "\n",
    "# Display the tabulation\n",
    "print(tabulation)"
   ]
  },
  {
   "cell_type": "code",
   "execution_count": 18,
   "metadata": {},
   "outputs": [
    {
     "name": "stdout",
     "output_type": "stream",
     "text": [
      "Weight ANC1    0.0  9.2  30.0  30.1  30.3  30.5  30.7  31.0  31.2  31.5  ...  \\\n",
      "District Name                                                            ...   \n",
      "5                0    0     6     0     0     0     0     5     0     0  ...   \n",
      "19               0    1    10     0     0     0     0     6     1     0  ...   \n",
      "30               0    0    10     0     0     0     0     5     0     0  ...   \n",
      "40               0    0     6     0     1     0     0     5     0     0  ...   \n",
      "42               1    0     6     1     0     1     1     2     0     1  ...   \n",
      "43               1    0    15     1     0     0     0     5     0     0  ...   \n",
      "Total            2    1    53     2     1     1     1    28     1     1  ...   \n",
      "\n",
      "Weight ANC1    151.0  152.0  154.0  155.0  156.0  158.0  160.0  200.0  \\\n",
      "District Name                                                           \n",
      "5                  0      0      0      0      0      0      0      0   \n",
      "19                 1      0      0      0      0      0      0      0   \n",
      "30                 0      0      0      0      0      0      0      1   \n",
      "40                 0      1      0      0      0      0      0      0   \n",
      "42                 0      0      0      0      1      0      1      0   \n",
      "43                 0      1      1      1      0      1      0      0   \n",
      "Total              1      2      1      1      1      1      1      1   \n",
      "\n",
      "Weight ANC1    Missing  Total  \n",
      "District Name                  \n",
      "5                  634   6498  \n",
      "19                1442   8891  \n",
      "30                2175   6885  \n",
      "40                2233  10164  \n",
      "42                3050   7370  \n",
      "43                2806   8774  \n",
      "Total            12340  48582  \n",
      "\n",
      "[7 rows x 527 columns]\n"
     ]
    }
   ],
   "source": [
    "# Replace missing values in 'ANC1' with 'Missing'\n",
    "df['Weight ANC1'].fillna('Missing', inplace=True)\n",
    "# Create a cross-tabulation\n",
    "tabulation = pd.crosstab(df['District Name'], df['Weight ANC1'], margins=True, margins_name='Total')\n",
    "\n",
    "# Display the tabulation\n",
    "print(tabulation)"
   ]
  }
 ],
 "metadata": {
  "kernelspec": {
   "display_name": "Python 3",
   "language": "python",
   "name": "python3"
  },
  "language_info": {
   "codemirror_mode": {
    "name": "ipython",
    "version": 3
   },
   "file_extension": ".py",
   "mimetype": "text/x-python",
   "name": "python",
   "nbconvert_exporter": "python",
   "pygments_lexer": "ipython3",
   "version": "3.11.6"
  }
 },
 "nbformat": 4,
 "nbformat_minor": 2
}
